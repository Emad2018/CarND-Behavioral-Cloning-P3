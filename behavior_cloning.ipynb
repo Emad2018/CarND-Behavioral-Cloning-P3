{
 "metadata": {
  "language_info": {
   "codemirror_mode": {
    "name": "ipython",
    "version": 3
   },
   "file_extension": ".py",
   "mimetype": "text/x-python",
   "name": "python",
   "nbconvert_exporter": "python",
   "pygments_lexer": "ipython3",
   "version": "3.8.5-final"
  },
  "orig_nbformat": 2,
  "kernelspec": {
   "name": "python3",
   "display_name": "Python 3",
   "language": "python"
  }
 },
 "nbformat": 4,
 "nbformat_minor": 2,
 "cells": [
  {
   "cell_type": "code",
   "execution_count": 1,
   "metadata": {},
   "outputs": [],
   "source": [
    "import csv\n",
    "import cv2\n",
    "import numpy as np\n",
    "from PIL import Image "
   ]
  },
  {
   "cell_type": "code",
   "execution_count": 2,
   "metadata": {},
   "outputs": [],
   "source": [
    "lines=[]\n",
    "data_dir=\"../data_given/data/\"\n",
    "#data_dir=\"../simulation_data/\"\n",
    "images_dir=data_dir+\"IMG/\"\n",
    "csv_dir=data_dir+\"driving_log.csv\"\n",
    "with open(csv_dir) as csvfile:\n",
    "    reader=csv.reader(csvfile)\n",
    "    for line in reader:\n",
    "        lines.append(line)"
   ]
  },
  {
   "cell_type": "code",
   "execution_count": 3,
   "metadata": {},
   "outputs": [],
   "source": [
    "def readimage(source_path,images_dir):\n",
    "    filename=source_path.split(\"/\")[-1]\n",
    "    image_path=images_dir+filename\n",
    "    image=cv2.imread(image_path)\n",
    "    return image\n"
   ]
  },
  {
   "cell_type": "code",
   "execution_count": 4,
   "metadata": {},
   "outputs": [],
   "source": [
    "images=[]\n",
    "measurments=[]\n",
    "lines.pop(0)\n",
    "\n",
    "for line in lines:\n",
    "    \"\"\"\n",
    "    source_path=line[0]\n",
    "    image_center=readimage(source_path,images_dir)\n",
    "    source_path=line[1]\n",
    "    image_left=readimage(source_path,images_dir)\n",
    "    source_path=line[2]\n",
    "    image_right=readimage(source_path,images_dir)\n",
    "    \"\"\"\n",
    "    center_img_dir = data_dir+'IMG/'+line[0].split('/')[-1]      \n",
    "    center_image = cv2.imread(center_img_dir)         \n",
    "\n",
    "    steering_center=float(line[3])\n",
    "    correction = 0.2 # this is a parameter to tune\n",
    "    steering_left = steering_center + correction\n",
    "    steering_right = steering_center - correction\n",
    "\n",
    "    #measurments.extend([steering_center,steering_left,steering_right])\n",
    "    #images.extend([image_center,image_left,image_right])\n",
    "    images.append(center_image)\n",
    "    #images.append(image_left)\n",
    "    #images.append(image_right)\n",
    "\n",
    "    measurments.append(steering_center)\n",
    "    #measurments.append(steering_left)\n",
    "    #measurments.append(steering_right)\n",
    "\"\"\"    \n",
    "augmented_images,augmented_measurements=[],[]\n",
    "for image,measurment in zip(images,measurments):\n",
    "    augmented_images.append(image)\n",
    "    augmented_measurements.append(measurment)\n",
    "    augmented_images.append(cv2.flip(image,1))\n",
    "    augmented_measurements.append(measurment*-1.0)\n",
    "\n",
    "image=[]\n",
    "measurments=[]    \n",
    "X_train=np.array(augmented_images)\n",
    "Y_train=np.array(augmented_measurements)\n",
    "\"\"\"\n",
    "X_train=np.array(images)\n",
    "Y_train=np.array(measurments)"
   ]
  },
  {
   "cell_type": "code",
   "execution_count": 5,
   "metadata": {},
   "outputs": [
    {
     "output_type": "stream",
     "name": "stdout",
     "text": [
      "1 Physical GPUs, 1 Logical GPUs\n"
     ]
    }
   ],
   "source": [
    "import tensorflow as tf\n",
    "\n",
    "gpus = tf.config.experimental.list_physical_devices('GPU')\n",
    "if gpus:\n",
    "  # Restrict TensorFlow to only allocate 1GB of memory on the first GPU\n",
    "  try:\n",
    "    tf.config.experimental.set_virtual_device_configuration(\n",
    "        gpus[0],\n",
    "        [tf.config.experimental.VirtualDeviceConfiguration(memory_limit=4096)])\n",
    "    logical_gpus = tf.config.experimental.list_logical_devices('GPU')\n",
    "    print(len(gpus), \"Physical GPUs,\", len(logical_gpus), \"Logical GPUs\")\n",
    "  except RuntimeError as e:\n",
    "    # Virtual devices must be set before GPUs have been initialized\n",
    "    print(e)"
   ]
  },
  {
   "cell_type": "code",
   "execution_count": 6,
   "metadata": {},
   "outputs": [
    {
     "output_type": "stream",
     "name": "stdout",
     "text": [
      "2.3.0-tf\n",
      "Epoch 1/7\n",
      "101/101 [==============================] - 36s 356ms/step - loss: 0.0382 - val_loss: 0.0114\n",
      "Epoch 2/7\n",
      "101/101 [==============================] - 19s 191ms/step - loss: 0.0102 - val_loss: 0.0108\n",
      "Epoch 3/7\n",
      "101/101 [==============================] - 19s 191ms/step - loss: 0.0099 - val_loss: 0.0110\n",
      "Epoch 4/7\n",
      "101/101 [==============================] - 20s 193ms/step - loss: 0.0094 - val_loss: 0.0104\n",
      "Epoch 5/7\n",
      "101/101 [==============================] - 19s 193ms/step - loss: 0.0093 - val_loss: 0.0102\n",
      "Epoch 6/7\n",
      "101/101 [==============================] - 19s 193ms/step - loss: 0.0088 - val_loss: 0.0105\n",
      "Epoch 7/7\n",
      "101/101 [==============================] - 18s 182ms/step - loss: 0.0085 - val_loss: 0.0104\n"
     ]
    }
   ],
   "source": [
    "import resource, sys\n",
    "resource.setrlimit(resource.RLIMIT_STACK, (2**29,-1))\n",
    "sys.setrecursionlimit(10**6)\n",
    "\n",
    "import os\n",
    "import csv\n",
    "import cv2\n",
    "import numpy as np\n",
    "import sklearn\n",
    "from tensorflow.keras.models import Sequential\n",
    "from tensorflow.keras.layers import Conv2D,Cropping2D,MaxPooling2D,Dense, Activation, Flatten, Dropout,Lambda\n",
    "from math import ceil\n",
    "from random import shuffle\n",
    "import tensorflow\n",
    "print(tensorflow.keras.__version__)\n",
    "\n",
    "model=Sequential()\n",
    "model.add(Lambda(lambda x:x/255.0-.5,input_shape=(160,320,3)))\n",
    "model.add(Cropping2D(cropping=((50,20), (0,0))))\n",
    "model.add(Conv2D(24, (5, 2),activation=\"relu\"))\n",
    "model.add(Conv2D(36, (5, 2),activation=\"relu\"))\n",
    "model.add(Conv2D(48, (5, 2),activation=\"relu\"))\n",
    "model.add(Conv2D(64, 3, 3,activation=\"relu\" ))\n",
    "model.add(Conv2D(64, 3, 3,activation=\"relu\" ))\n",
    "model.add(Flatten())\n",
    "model.add(Dense(100))\n",
    "model.add(Dense(50))\n",
    "model.add(Dense(10))\n",
    "model.add(Dense(1))\n",
    "\n",
    "model.compile(loss=\"mse\",optimizer=\"adam\")\n",
    "model.fit(X_train,Y_train,validation_split=.2,shuffle=True,epochs=7,batch_size=64)\n",
    "model.save(\"model.h5\")\n"
   ]
  }
 ]
}